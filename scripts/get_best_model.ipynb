{
  "cells": [
    {
      "cell_type": "markdown",
      "metadata": {
        "id": "VtXHjdW1t5kr"
      },
      "source": [
        "Import des librairies"
      ]
    },
    {
      "cell_type": "code",
      "execution_count": 1,
      "metadata": {
        "id": "Hn2h6vK82ERY"
      },
      "outputs": [],
      "source": [
        "import pandas as pd\n",
        "import os\n",
        "from sklearn.model_selection import train_test_split\n",
        "from sklearn.model_selection import GridSearchCV\n",
        "from sklearn.svm import SVC\n",
        "from sklearn.ensemble import RandomForestClassifier, GradientBoostingClassifier\n",
        "from sklearn.metrics import make_scorer, balanced_accuracy_score"
      ]
    },
    {
      "cell_type": "markdown",
      "metadata": {
        "id": "vp7xfiuj2ERa"
      },
      "source": [
        "Fonction de lecture du fichier CSV"
      ]
    },
    {
      "cell_type": "code",
      "execution_count": 2,
      "metadata": {
        "id": "AjMMGzG2wVf4"
      },
      "outputs": [],
      "source": [
        "def data_read(file_name):\n",
        "  path='../data/'+ file_name\n",
        "  df=pd.read_csv(path,delimiter=',')\n",
        "  X=df.iloc[:, :-1]\n",
        "  Y=df.iloc[:, -1]\n",
        "  return X,Y"
      ]
    },
    {
      "cell_type": "markdown",
      "metadata": {
        "id": "PdyVmlFpPXy0"
      },
      "source": [
        "Fonction de création des ensemble d'entrainement et de test"
      ]
    },
    {
      "cell_type": "code",
      "execution_count": 3,
      "metadata": {
        "id": "QjrC8E9BPXbH"
      },
      "outputs": [],
      "source": [
        "def data_process(X,Y,balance=None):\n",
        "  test_size=0.3\n",
        "  random_state=1\n",
        "  if (balance==\"smote\"):\n",
        "    from imblearn.over_sampling import SMOTE\n",
        "    X_train,X_test,y_train,y_test=train_test_split(X, Y, test_size=test_size, random_state=random_state,stratify=Y)\n",
        "    smote=SMOTE(sampling_strategy='auto', random_state=1)\n",
        "    X_train,y_train=smote.fit_resample(X_train,y_train)\n",
        "  elif (balance==\"tomek\"):\n",
        "    X_train,X_test,y_train,y_test=train_test_split(X, Y, test_size=test_size, random_state=random_state,stratify=Y)\n",
        "    from imblearn.under_sampling import TomekLinks\n",
        "    tomek = TomekLinks(sampling_strategy='auto')\n",
        "    X_train,y_train=tomek.fit_resample(X_train,y_train)\n",
        "  else :\n",
        "    X_train,X_test,y_train,y_test=train_test_split(X, Y, test_size=test_size, random_state=random_state,stratify=Y)\n",
        "  return X_train,X_test,y_train,y_test"
      ]
    },
    {
      "cell_type": "markdown",
      "metadata": {
        "id": "SOkLbf_4uRL9"
      },
      "source": [
        "Fonction pour encoder une image quelconque en vecteur"
      ]
    },
    {
      "cell_type": "code",
      "execution_count": 4,
      "metadata": {
        "id": "5JtfCrjHyzPB"
      },
      "outputs": [],
      "source": [
        "def grid_search_best_model(X,Y,param_grids,balances=None):\n",
        "    # Définir la balanced accuracy comme fonction scorer\n",
        "    scorer = make_scorer(balanced_accuracy_score)\n",
        "    returned_model=None\n",
        "    best_model = None\n",
        "    best_score = 0\n",
        "    returned_score = 0\n",
        "    for balance in balances :\n",
        "      # Création des ensemble d'entrainement et de teste avec les differentes methodes de balancing\n",
        "      X_train,X_test,Y_train,Y_test= data_process(X,Y,balance)\n",
        "      # Executer une grid search pour chaque algorithme\n",
        "      for param_grid_info in param_grids:\n",
        "          model = param_grid_info['model']\n",
        "          param_grid = param_grid_info['param_grid']\n",
        "\n",
        "          grid_search = GridSearchCV(model, param_grid=param_grid, scoring=scorer, cv=3)\n",
        "          grid_search.fit(X_train, Y_train)\n",
        "\n",
        "          best_model_candidate = grid_search.best_estimator_\n",
        "          best_score_candidate = grid_search.best_score_\n",
        "\n",
        "          if best_score_candidate > best_score:\n",
        "              best_model = best_model_candidate\n",
        "              best_score = best_score_candidate\n",
        "      if best_score>returned_score :\n",
        "        returned_model=best_model\n",
        "        returned_score=best_score\n",
        "    # Fiter le meilleur modele sur toutes les données d'entrainement\n",
        "    returned_model.fit(X_train, Y_train)\n",
        "    # Evaluer le meilleur modele sur le teste set\n",
        "    test_score = balanced_accuracy_score(Y_test, returned_model.predict(X_test))\n",
        "\n",
        "    return best_model, test_score\n"
      ]
    },
    {
      "cell_type": "code",
      "execution_count": null,
      "metadata": {
        "id": "-TT0d-yY3IuP"
      },
      "outputs": [],
      "source": [
        "# Defnir la grille de parametres pour chaque modele\n",
        "param_grids = [\n",
        "        {'model': SVC(), 'param_grid': {'C': [0.1, 1, 10], 'kernel': ['linear', 'rbf']}},\n",
        "        {'model': RandomForestClassifier(), 'param_grid': {'n_estimators': [50, 100, 200], 'max_depth': [None, 10, 20]}},\n",
        "        {'model': GradientBoostingClassifier(), 'param_grid': {'n_estimators': [50, 100, 200], 'learning_rate': [0.01, 0.1, 0.2]}}\n",
        "    ]\n",
        "# Definir les methodes de balancing\n",
        "datatype=[None,'smote','tomek']\n",
        "X,Y=data_read(\"ref_data.csv\")\n",
        "model,score=grid_search_best_model(X,Y,param_grids,datatype)\n"
      ]
    }
  ],
  "metadata": {
    "colab": {
      "provenance": []
    },
    "kernelspec": {
      "display_name": "Python 3",
      "name": "python3"
    },
    "language_info": {
      "codemirror_mode": {
        "name": "ipython",
        "version": 3
      },
      "file_extension": ".py",
      "mimetype": "text/x-python",
      "name": "python",
      "nbconvert_exporter": "python",
      "pygments_lexer": "ipython3",
      "version": "3.11.6"
    }
  },
  "nbformat": 4,
  "nbformat_minor": 0
}
